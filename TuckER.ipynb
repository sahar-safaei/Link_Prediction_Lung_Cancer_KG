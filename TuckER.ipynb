{
  "cells": [
    {
      "cell_type": "code",
      "source": [
        "%pip install torch torchvision torchaudio --index-url https://download.pytorch.org/whl/cu117"
      ],
      "metadata": {
        "id": "cuoAaJHeBAl4"
      },
      "execution_count": null,
      "outputs": []
    },
    {
      "cell_type": "code",
      "execution_count": null,
      "metadata": {
        "id": "wA5U7N5TQE5V"
      },
      "outputs": [],
      "source": [
        "import torch"
      ]
    },
    {
      "cell_type": "code",
      "source": [
        "!git clone -b master https://github.com/ibalazevic/TuckER/ --depth 1"
      ],
      "metadata": {
        "id": "h4BMVz0kBDXr"
      },
      "execution_count": null,
      "outputs": []
    },
    {
      "cell_type": "markdown",
      "source": [
        "Manuel Tasks:\n",
        "\n",
        "\n",
        "1.   Change Main.py for right link prediction\n",
        "2.   Add Benchmark XXXX to data\n",
        "\n",
        "\n",
        "\n"
      ],
      "metadata": {
        "id": "r6yYL05i9clW"
      }
    },
    {
      "cell_type": "code",
      "source": [
        "%cd ./TuckER/"
      ],
      "metadata": {
        "id": "kdzi01GVBFWl"
      },
      "execution_count": null,
      "outputs": []
    },
    {
      "cell_type": "code",
      "source": [
        "!CUDA_VISIBLE_DEVICES=0 python main.py --dataset XXXX --num_iterations 100 --batch_size 100 --lr 0.0005 --dr 1.0 --edim 20 --rdim 20 --input_dropout 0.3 --hidden_dropout1 0.4 --hidden_dropout2 0.5 --label_smoothing 0.1"
      ],
      "metadata": {
        "id": "npuQSk2ZA5XB"
      },
      "execution_count": null,
      "outputs": []
    }
  ],
  "metadata": {
    "accelerator": "GPU",
    "colab": {
      "machine_shape": "hm",
      "provenance": []
    },
    "kernelspec": {
      "display_name": "Python 3",
      "name": "python3"
    },
    "language_info": {
      "name": "python"
    }
  },
  "nbformat": 4,
  "nbformat_minor": 0
}