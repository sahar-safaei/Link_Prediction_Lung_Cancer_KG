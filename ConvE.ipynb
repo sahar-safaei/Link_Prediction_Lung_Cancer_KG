{
  "nbformat": 4,
  "nbformat_minor": 0,
  "metadata": {
    "colab": {
      "provenance": [],
      "gpuType": "T4",
      "machine_shape": "hm"
    },
    "kernelspec": {
      "name": "python3",
      "display_name": "Python 3"
    },
    "language_info": {
      "name": "python"
    },
    "accelerator": "GPU"
  },
  "cells": [
    {
      "cell_type": "code",
      "execution_count": null,
      "metadata": {
        "id": "ZAvFSNohKe8Q"
      },
      "outputs": [],
      "source": [
        "%pip install torch torchvision torchaudio --index-url https://download.pytorch.org/whl/cu117"
      ]
    },
    {
      "cell_type": "code",
      "source": [
        "%pip install scipy"
      ],
      "metadata": {
        "id": "ql6I38XSl1a7"
      },
      "execution_count": null,
      "outputs": []
    },
    {
      "cell_type": "code",
      "source": [
        "import torch"
      ],
      "metadata": {
        "id": "6M4Gr-t9I10E"
      },
      "execution_count": null,
      "outputs": []
    },
    {
      "cell_type": "code",
      "source": [
        "!git clone -b master https://github.com/TimDettmers/ConvE --depth 1"
      ],
      "metadata": {
        "id": "MKwnX1t4KvLk"
      },
      "execution_count": null,
      "outputs": []
    },
    {
      "cell_type": "code",
      "source": [
        "%cd ConvE"
      ],
      "metadata": {
        "id": "TxlmhuBgTgck"
      },
      "execution_count": null,
      "outputs": []
    },
    {
      "cell_type": "markdown",
      "source": [
        "Manuel Tasks:\n",
        "\n",
        "\n",
        "1.   Add spodernet-master.zip to ConvE Folder\n",
        "2.   Add bashmagic-master.zip to ConvE Folder\n",
        "3.   Add Benchmark XXXX to ConvE Folder\n",
        "4.   Change preprocess.sh data to prepare new Benchmarks"
      ],
      "metadata": {
        "id": "X21vSdMyB1MM"
      }
    },
    {
      "cell_type": "code",
      "source": [
        "import zipfile\n",
        "\n",
        "with zipfile.ZipFile('./spodernet-master.zip', 'r') as zip_ref:\n",
        "    zip_ref.extractall()"
      ],
      "metadata": {
        "id": "69rdR_Fzob_E"
      },
      "execution_count": null,
      "outputs": []
    },
    {
      "cell_type": "code",
      "source": [
        "%cd ./spodernet-master/"
      ],
      "metadata": {
        "id": "v_BwbPXBou2v"
      },
      "execution_count": null,
      "outputs": []
    },
    {
      "cell_type": "code",
      "source": [
        "!pip3 install -e ."
      ],
      "metadata": {
        "id": "JXoKd1vuoz3J"
      },
      "execution_count": null,
      "outputs": []
    },
    {
      "cell_type": "code",
      "source": [
        "%cd ../"
      ],
      "metadata": {
        "id": "FYhFWFByzLKW"
      },
      "execution_count": null,
      "outputs": []
    },
    {
      "cell_type": "code",
      "source": [
        "import zipfile\n",
        "\n",
        "with zipfile.ZipFile('./bashmagic-master.zip', 'r') as zip_ref:\n",
        "    zip_ref.extractall()"
      ],
      "metadata": {
        "id": "0JSQxZ1py37C"
      },
      "execution_count": null,
      "outputs": []
    },
    {
      "cell_type": "code",
      "source": [
        "%cd ./bashmagic-master/"
      ],
      "metadata": {
        "id": "do1DHHDXzdQk"
      },
      "execution_count": null,
      "outputs": []
    },
    {
      "cell_type": "code",
      "source": [
        "!pip install -e ."
      ],
      "metadata": {
        "id": "hLZ3kxn4zcYc"
      },
      "execution_count": null,
      "outputs": []
    },
    {
      "cell_type": "code",
      "source": [
        "%cd ../"
      ],
      "metadata": {
        "id": "_PZ_OeL1zmeD"
      },
      "execution_count": null,
      "outputs": []
    },
    {
      "cell_type": "code",
      "source": [
        "!python -m spacy download en_core_web_sm"
      ],
      "metadata": {
        "id": "Pm9g7WuhBP_l"
      },
      "execution_count": null,
      "outputs": []
    },
    {
      "cell_type": "code",
      "source": [
        "!sh preprocess.sh"
      ],
      "metadata": {
        "id": "WvHsm3tNBdR8"
      },
      "execution_count": null,
      "outputs": []
    },
    {
      "cell_type": "code",
      "source": [
        "!CUDA_VISIBLE_DEVICES=0 python main.py --data XXXX --preprocess --epochs 6"
      ],
      "metadata": {
        "id": "J4P1zG9pFxp5"
      },
      "execution_count": null,
      "outputs": []
    }
  ]
}