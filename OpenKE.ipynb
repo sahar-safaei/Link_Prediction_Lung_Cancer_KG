{
  "nbformat": 4,
  "nbformat_minor": 0,
  "metadata": {
    "colab": {
      "provenance": [],
      "gpuType": "T4"
    },
    "kernelspec": {
      "name": "python3",
      "display_name": "Python 3"
    },
    "language_info": {
      "name": "python"
    },
    "accelerator": "GPU"
  },
  "cells": [
    {
      "cell_type": "code",
      "execution_count": null,
      "metadata": {
        "id": "h4Wt3KHqjKFN"
      },
      "outputs": [],
      "source": [
        "%pip install torch torchvision torchaudio --index-url https://download.pytorch.org/whl/cu117"
      ]
    },
    {
      "cell_type": "code",
      "source": [
        "!git clone -b OpenKE-PyTorch https://github.com/thunlp/OpenKE --depth 1"
      ],
      "metadata": {
        "id": "VC0YUwGWjlCw"
      },
      "execution_count": null,
      "outputs": []
    },
    {
      "cell_type": "markdown",
      "source": [
        "Manuel Tasks:\n",
        "\n",
        "\n",
        "1.   Add Benchmark XXXX to ConvE Folder\n",
        "2.   Change Test.h for right link prediction\n",
        "3.   Change Tester.py for right link prediction"
      ],
      "metadata": {
        "id": "iswWFLH8DPiR"
      }
    },
    {
      "cell_type": "code",
      "source": [
        "benchmark_name='XXXX'\n",
        "path='/OpenKE/benchmarks/'+benchmark_name"
      ],
      "metadata": {
        "id": "5WnylC-3D_di"
      },
      "execution_count": null,
      "outputs": []
    },
    {
      "cell_type": "markdown",
      "source": [
        "**n-n.py**"
      ],
      "metadata": {
        "id": "G_WXaQFjEYL4"
      }
    },
    {
      "cell_type": "code",
      "source": [
        "lef = {}\n",
        "rig = {}\n",
        "rellef = {}\n",
        "relrig = {}\n",
        "\n",
        "triple = open('.'+path+'/train2id.txt', \"r\")\n",
        "valid = open('.'+path+'/valid2id.txt', \"r\")\n",
        "test = open('.'+path+'/test2id.txt', \"r\")\n",
        "\n",
        "tot = (int)(triple.readline())\n",
        "for i in range(tot):\n",
        "\tcontent = triple.readline()\n",
        "\th,t,r = content.strip().split()\n",
        "\tif not (h,r) in lef:\n",
        "\t\tlef[(h,r)] = []\n",
        "\tif not (r,t) in rig:\n",
        "\t\trig[(r,t)] = []\n",
        "\tlef[(h,r)].append(t)\n",
        "\trig[(r,t)].append(h)\n",
        "\tif not r in rellef:\n",
        "\t\trellef[r] = {}\n",
        "\tif not r in relrig:\n",
        "\t\trelrig[r] = {}\n",
        "\trellef[r][h] = 1\n",
        "\trelrig[r][t] = 1\n",
        "\n",
        "tot = (int)(valid.readline())\n",
        "for i in range(tot):\n",
        "\tcontent = valid.readline()\n",
        "\th,t,r = content.strip().split()\n",
        "\tif not (h,r) in lef:\n",
        "\t\tlef[(h,r)] = []\n",
        "\tif not (r,t) in rig:\n",
        "\t\trig[(r,t)] = []\n",
        "\tlef[(h,r)].append(t)\n",
        "\trig[(r,t)].append(h)\n",
        "\tif not r in rellef:\n",
        "\t\trellef[r] = {}\n",
        "\tif not r in relrig:\n",
        "\t\trelrig[r] = {}\n",
        "\trellef[r][h] = 1\n",
        "\trelrig[r][t] = 1\n",
        "\n",
        "tot = (int)(test.readline())\n",
        "for i in range(tot):\n",
        "\tcontent = test.readline()\n",
        "\th,t,r = content.strip().split()\n",
        "\tif not (h,r) in lef:\n",
        "\t\tlef[(h,r)] = []\n",
        "\tif not (r,t) in rig:\n",
        "\t\trig[(r,t)] = []\n",
        "\tlef[(h,r)].append(t)\n",
        "\trig[(r,t)].append(h)\n",
        "\tif not r in rellef:\n",
        "\t\trellef[r] = {}\n",
        "\tif not r in relrig:\n",
        "\t\trelrig[r] = {}\n",
        "\trellef[r][h] = 1\n",
        "\trelrig[r][t] = 1\n",
        "\n",
        "test.close()\n",
        "valid.close()\n",
        "triple.close()\n",
        "\n",
        "f = open('.'+path+'/type_constrain.txt', \"w\")\n",
        "f.write(\"%d\\n\"%(len(rellef)))\n",
        "for i in rellef:\n",
        "\tf.write(\"%s\\t%d\"%(i,len(rellef[i])))\n",
        "\tfor j in rellef[i]:\n",
        "\t\tf.write(\"\\t%s\"%(j))\n",
        "\tf.write(\"\\n\")\n",
        "\tf.write(\"%s\\t%d\"%(i,len(relrig[i])))\n",
        "\tfor j in relrig[i]:\n",
        "\t\tf.write(\"\\t%s\"%(j))\n",
        "\tf.write(\"\\n\")\n",
        "f.close()\n",
        "\n",
        "rellef = {}\n",
        "totlef = {}\n",
        "relrig = {}\n",
        "totrig = {}\n",
        "# lef: (h, r)\n",
        "# rig: (r, t)\n",
        "for i in lef:\n",
        "\tif not i[1] in rellef:\n",
        "\t\trellef[i[1]] = 0\n",
        "\t\ttotlef[i[1]] = 0\n",
        "\trellef[i[1]] += len(lef[i])\n",
        "\ttotlef[i[1]] += 1.0\n",
        "\n",
        "for i in rig:\n",
        "\tif not i[0] in relrig:\n",
        "\t\trelrig[i[0]] = 0\n",
        "\t\ttotrig[i[0]] = 0\n",
        "\trelrig[i[0]] += len(rig[i])\n",
        "\ttotrig[i[0]] += 1.0\n",
        "\n",
        "s11=0\n",
        "s1n=0\n",
        "sn1=0\n",
        "snn=0\n",
        "f = open('.'+path+'/test2id.txt', \"r\")\n",
        "tot = (int)(f.readline())\n",
        "for i in range(tot):\n",
        "\tcontent = f.readline()\n",
        "\th,t,r = content.strip().split()\n",
        "\trign = rellef[r] / totlef[r]\n",
        "\tlefn = relrig[r] / totrig[r]\n",
        "\tif (rign < 1.5 and lefn < 1.5):\n",
        "\t\ts11+=1\n",
        "\tif (rign >= 1.5 and lefn < 1.5):\n",
        "\t\ts1n+=1\n",
        "\tif (rign < 1.5 and lefn >= 1.5):\n",
        "\t\tsn1+=1\n",
        "\tif (rign >= 1.5 and lefn >= 1.5):\n",
        "\t\tsnn+=1\n",
        "f.close()\n",
        "\n",
        "\n",
        "f = open('.'+path+'/test2id.txt', \"r\")\n",
        "f11 = open('.'+path+'/1-1.txt', \"w\")\n",
        "f1n = open('.'+path+'/1-n.txt', \"w\")\n",
        "fn1 = open('.'+path+'/n-1.txt', \"w\")\n",
        "fnn = open('.'+path+'/n-n.txt', \"w\")\n",
        "fall = open('.'+path+'/test2id_all.txt', \"w\")\n",
        "tot = (int)(f.readline())\n",
        "fall.write(\"%d\\n\"%(tot))\n",
        "f11.write(\"%d\\n\"%(s11))\n",
        "f1n.write(\"%d\\n\"%(s1n))\n",
        "fn1.write(\"%d\\n\"%(sn1))\n",
        "fnn.write(\"%d\\n\"%(snn))\n",
        "for i in range(tot):\n",
        "\tcontent = f.readline()\n",
        "\th,t,r = content.strip().split()\n",
        "\trign = rellef[r] / totlef[r]\n",
        "\tlefn = relrig[r] / totrig[r]\n",
        "\tif (rign < 1.5 and lefn < 1.5):\n",
        "\t\tf11.write(content)\n",
        "\t\tfall.write(\"0\"+\"\\t\"+content)\n",
        "\tif (rign >= 1.5 and lefn < 1.5):\n",
        "\t\tf1n.write(content)\n",
        "\t\tfall.write(\"1\"+\"\\t\"+content)\n",
        "\tif (rign < 1.5 and lefn >= 1.5):\n",
        "\t\tfn1.write(content)\n",
        "\t\tfall.write(\"2\"+\"\\t\"+content)\n",
        "\tif (rign >= 1.5 and lefn >= 1.5):\n",
        "\t\tfnn.write(content)\n",
        "\t\tfall.write(\"3\"+\"\\t\"+content)\n",
        "fall.close()\n",
        "f.close()\n",
        "f11.close()\n",
        "f1n.close()\n",
        "fn1.close()\n",
        "fnn.close()\n"
      ],
      "metadata": {
        "id": "jpHOwRvhLWvc"
      },
      "execution_count": null,
      "outputs": []
    },
    {
      "cell_type": "code",
      "source": [
        "%cd ./OpenKE/openke/"
      ],
      "metadata": {
        "id": "ed-z6UfSkVwJ"
      },
      "execution_count": null,
      "outputs": []
    },
    {
      "cell_type": "code",
      "source": [
        "!bash make.sh"
      ],
      "metadata": {
        "id": "eO_ayfsfjtCJ"
      },
      "execution_count": null,
      "outputs": []
    },
    {
      "cell_type": "code",
      "source": [
        "%cd ../"
      ],
      "metadata": {
        "id": "tqf6NLAC1oHd"
      },
      "execution_count": null,
      "outputs": []
    },
    {
      "cell_type": "markdown",
      "source": [
        "# **TRANSE**"
      ],
      "metadata": {
        "id": "MVB4aU_mCab_"
      }
    },
    {
      "cell_type": "code",
      "source": [
        "import openke\n",
        "from openke.config import Trainer, Tester\n",
        "from openke.module.model import TransE\n",
        "from openke.module.loss import MarginLoss\n",
        "from openke.module.strategy import NegativeSampling\n",
        "from openke.data import TrainDataLoader, TestDataLoader\n",
        "train_dataloader = TrainDataLoader(\n",
        "\tin_path = \"./benchmarks/\"+benchmark_name+\"/\",\n",
        "\tnbatches = 100,\n",
        "\tthreads = 8,\n",
        "\tsampling_mode = \"normal\",\n",
        "\tbern_flag = 1,\n",
        "\tfilter_flag = 1,\n",
        "\tneg_ent = 25,\n",
        "\tneg_rel = 0)\n",
        "# dataloader for test\n",
        "test_dataloader = TestDataLoader(\"./benchmarks/\"+benchmark_name+\"/\", \"link\")\n",
        "\n",
        "# define the model\n",
        "transe = TransE(\n",
        "\tent_tot = train_dataloader.get_ent_tot(),\n",
        "\trel_tot = train_dataloader.get_rel_tot(),\n",
        "\tdim = 20,\n",
        "\tp_norm = 1,\n",
        "\tnorm_flag = True)\n",
        "\n",
        "\n",
        "# define the loss function\n",
        "model = NegativeSampling(\n",
        "\tmodel = transe,\n",
        "\tloss = MarginLoss(margin = 5.0),\n",
        "\tbatch_size = train_dataloader.get_batch_size()\n",
        ")\n",
        "# train the model\n",
        "trainer = Trainer(model = model, data_loader = train_dataloader, train_times = 500, alpha = 1.0, use_gpu = True)\n",
        "trainer.run()\n",
        "transe.save_checkpoint('./'+benchmark_name+'_transe.ckpt')\n"
      ],
      "metadata": {
        "id": "XD7ksAqESKjn"
      },
      "execution_count": null,
      "outputs": []
    },
    {
      "cell_type": "code",
      "source": [
        "transe.load_checkpoint('./'+benchmark_name+'_transe.ckpt')\n",
        "tester = Tester(model = transe, data_loader = test_dataloader, use_gpu = True)\n",
        "tester.run_link_prediction(type_constrain = False, link_prediction_type=1)"
      ],
      "metadata": {
        "id": "enVYbP25FPBe"
      },
      "execution_count": null,
      "outputs": []
    },
    {
      "cell_type": "markdown",
      "source": [
        "# **TRANSH**"
      ],
      "metadata": {
        "id": "XwixyCd7ChxP"
      }
    },
    {
      "cell_type": "code",
      "source": [
        "import openke\n",
        "from openke.config import Trainer, Tester\n",
        "from openke.module.model import TransH\n",
        "from openke.module.loss import MarginLoss\n",
        "from openke.module.strategy import NegativeSampling\n",
        "from openke.data import TrainDataLoader, TestDataLoader\n",
        "\n",
        "# dataloader for training\n",
        "train_dataloader = TrainDataLoader(\n",
        "\tin_path = \"./benchmarks/\"+benchmark_name+\"/\",\n",
        "\tnbatches = 100,\n",
        "\tthreads = 8,\n",
        "\tsampling_mode = \"normal\",\n",
        "\tbern_flag = 1,\n",
        "\tfilter_flag = 1,\n",
        "\tneg_ent = 25,\n",
        "\tneg_rel = 0)\n",
        "test_dataloader = TestDataLoader(\"./benchmarks/\"+benchmark_name+\"/\", \"link\")\n",
        "# define the model\n",
        "transh = TransH(\n",
        "\tent_tot = train_dataloader.get_ent_tot(),\n",
        "\trel_tot = train_dataloader.get_rel_tot(),\n",
        "\tdim = 20,\n",
        "\tp_norm = 1,\n",
        "\tnorm_flag = True)\n",
        "\n",
        "# define the loss function\n",
        "model = NegativeSampling(\n",
        "\tmodel = transh,\n",
        "\tloss = MarginLoss(margin = 4.0),\n",
        "\tbatch_size = train_dataloader.get_batch_size()\n",
        ")\n",
        "# train the model\n",
        "trainer = Trainer(model = model, data_loader = train_dataloader, train_times = 500, alpha = 1.0, use_gpu = True)\n",
        "trainer.run()\n",
        "transh.save_checkpoint('./'+benchmark_name+'_transh.ckpt')"
      ],
      "metadata": {
        "id": "lLwpFaMxCg1J"
      },
      "execution_count": null,
      "outputs": []
    },
    {
      "cell_type": "code",
      "source": [
        "# test the model\n",
        "transh.load_checkpoint('./'+benchmark_name+'_transh.ckpt')\n",
        "tester = Tester(model = transh, data_loader = test_dataloader, use_gpu = True)\n",
        "tester.run_link_prediction(type_constrain = False, link_prediction_type=1)"
      ],
      "metadata": {
        "id": "QqnOpNKCoMVd"
      },
      "execution_count": null,
      "outputs": []
    },
    {
      "cell_type": "markdown",
      "source": [
        "# **TransR**"
      ],
      "metadata": {
        "id": "IjI_qkfPX9ub"
      }
    },
    {
      "cell_type": "code",
      "source": [
        "import openke\n",
        "from openke.config import Trainer, Tester\n",
        "from openke.module.model import TransE, TransR\n",
        "from openke.module.loss import MarginLoss\n",
        "from openke.module.strategy import NegativeSampling\n",
        "from openke.data import TrainDataLoader, TestDataLoader\n",
        "\n",
        "# dataloader for training\n",
        "train_dataloader = TrainDataLoader(\n",
        "\tin_path = \"./benchmarks/\"+benchmark_name+\"/\",\n",
        "\tnbatches = 100,\n",
        "\tthreads = 8,\n",
        "\tsampling_mode = \"normal\",\n",
        "\tbern_flag = 1,\n",
        "\tfilter_flag = 1,\n",
        "\tneg_ent = 25,\n",
        "\tneg_rel = 0)\n",
        "\n",
        "# dataloader for test\n",
        "test_dataloader = TestDataLoader(\n",
        "\tin_path = \"./benchmarks/\"+benchmark_name+\"/\",\n",
        "\tsampling_mode = 'link')\n",
        "\n",
        "# define the model\n",
        "transe = TransE(\n",
        "\tent_tot = train_dataloader.get_ent_tot(),\n",
        "\trel_tot = train_dataloader.get_rel_tot(),\n",
        "\tdim = 20,\n",
        "\tp_norm = 1,\n",
        "\tnorm_flag = True)\n",
        "\n",
        "model_e = NegativeSampling(\n",
        "\tmodel = transe,\n",
        "\tloss = MarginLoss(margin = 5.0),\n",
        "\tbatch_size = train_dataloader.get_batch_size())\n",
        "\n",
        "transr = TransR(\n",
        "\tent_tot = train_dataloader.get_ent_tot(),\n",
        "\trel_tot = train_dataloader.get_rel_tot(),\n",
        "\tdim_e = 20,\n",
        "\tdim_r = 20,\n",
        "\tp_norm = 1,\n",
        "\tnorm_flag = True,\n",
        "\trand_init = False)\n",
        "\n",
        "model_r = NegativeSampling(\n",
        "\tmodel = transr,\n",
        "\tloss = MarginLoss(margin = 4.0),\n",
        "\tbatch_size = train_dataloader.get_batch_size()\n",
        ")\n",
        "# pretrain transe\n",
        "trainer = Trainer(model = model_e, data_loader = train_dataloader, train_times = 1, alpha = 0.5, use_gpu = True)\n",
        "trainer.run()\n",
        "parameters = transe.get_parameters()\n",
        "transe.save_parameters(\"./benchmarks/\"+benchmark_name+\"/transr_transe.json\")\n",
        "# train transr\n",
        "transr.set_parameters(parameters)\n",
        "trainer = Trainer(model = model_r, data_loader = train_dataloader, train_times = 500, alpha = 1.0, use_gpu = True)\n",
        "trainer.run()\n",
        "transr.save_checkpoint('./'+benchmark_name+'_transr.ckpt')"
      ],
      "metadata": {
        "id": "cBiQ7zO5YCtO"
      },
      "execution_count": null,
      "outputs": []
    },
    {
      "cell_type": "code",
      "source": [
        "# test the model\n",
        "transr.load_checkpoint('./'+benchmark_name+'_transr.ckpt')\n",
        "tester = Tester(model = transr, data_loader = test_dataloader, use_gpu = True)\n",
        "tester.run_link_prediction(type_constrain = False, link_prediction_type=1)"
      ],
      "metadata": {
        "id": "jSTNRo06ZLSm"
      },
      "execution_count": null,
      "outputs": []
    },
    {
      "cell_type": "markdown",
      "source": [
        "# **TransD**"
      ],
      "metadata": {
        "id": "ULRFwe7NrCma"
      }
    },
    {
      "cell_type": "code",
      "source": [
        "import openke\n",
        "from openke.config import Trainer, Tester\n",
        "from openke.module.model import TransD\n",
        "from openke.module.loss import MarginLoss\n",
        "from openke.module.strategy import NegativeSampling\n",
        "from openke.data import TrainDataLoader, TestDataLoader\n",
        "\n",
        "# dataloader for training\n",
        "train_dataloader = TrainDataLoader(\n",
        "\tin_path = \"./benchmarks/\"+benchmark_name+\"/\",\n",
        "\tnbatches = 100,\n",
        "\tthreads = 8,\n",
        "\tsampling_mode = \"normal\",\n",
        "\tbern_flag = 1,\n",
        "\tfilter_flag = 1,\n",
        "\tneg_ent = 25,\n",
        "\tneg_rel = 0)\n",
        "\n",
        "# dataloader for test\n",
        "test_dataloader = TestDataLoader(\"./benchmarks/\"+benchmark_name+\"/\", \"link\")\n",
        "\n",
        "# define the model\n",
        "transd = TransD(\n",
        "\tent_tot = train_dataloader.get_ent_tot(),\n",
        "\trel_tot = train_dataloader.get_rel_tot(),\n",
        "\tdim_e = 20,\n",
        "\tdim_r = 20,\n",
        "\tp_norm = 1,\n",
        "\tnorm_flag = True)\n",
        "\n",
        "\n",
        "# define the loss function\n",
        "model = NegativeSampling(\n",
        "\tmodel = transd,\n",
        "\tloss = MarginLoss(margin = 4.0),\n",
        "\tbatch_size = train_dataloader.get_batch_size()\n",
        ")\n",
        "# train the model\n",
        "trainer = Trainer(model = model, data_loader = train_dataloader, train_times = 500, alpha = 1.0, use_gpu = True)\n",
        "trainer.run()\n",
        "transd.save_checkpoint('./'+benchmark_name+'_transd.ckpt')"
      ],
      "metadata": {
        "id": "54H2sAATrF_i"
      },
      "execution_count": null,
      "outputs": []
    },
    {
      "cell_type": "code",
      "source": [
        "# test the model\n",
        "transd.load_checkpoint('./'+benchmark_name+'_transd.ckpt')\n",
        "tester = Tester(model = transd, data_loader = test_dataloader, use_gpu = True)\n",
        "tester.run_link_prediction(type_constrain = False, link_prediction_type=1)"
      ],
      "metadata": {
        "id": "1vPl9tnO4Abl"
      },
      "execution_count": null,
      "outputs": []
    },
    {
      "cell_type": "markdown",
      "source": [
        "# **Distmult**"
      ],
      "metadata": {
        "id": "j9Y8hXgM3P90"
      }
    },
    {
      "cell_type": "code",
      "source": [
        "import openke\n",
        "from openke.config import Trainer, Tester\n",
        "from openke.module.model import DistMult\n",
        "from openke.module.loss import SoftplusLoss\n",
        "from openke.module.strategy import NegativeSampling\n",
        "from openke.data import TrainDataLoader, TestDataLoader\n",
        "\n",
        "# dataloader for training\n",
        "train_dataloader = TrainDataLoader(\n",
        "\tin_path = \"./benchmarks/\"+benchmark_name+\"/\",\n",
        "\tnbatches = 100,\n",
        "\tthreads = 8,\n",
        "\tsampling_mode = \"normal\",\n",
        "\tbern_flag = 1,\n",
        "\tfilter_flag = 1,\n",
        "\tneg_ent = 25,\n",
        "\tneg_rel = 0\n",
        ")\n",
        "\n",
        "# dataloader for test\n",
        "test_dataloader = TestDataLoader(\"./benchmarks/\"+benchmark_name+\"/\", \"link\")\n",
        "\n",
        "# define the model\n",
        "distmult = DistMult(\n",
        "\tent_tot = train_dataloader.get_ent_tot(),\n",
        "\trel_tot = train_dataloader.get_rel_tot(),\n",
        "\tdim = 20\n",
        ")\n",
        "\n",
        "# define the loss function\n",
        "model = NegativeSampling(\n",
        "\tmodel = distmult,\n",
        "\tloss = SoftplusLoss(),\n",
        "\tbatch_size = train_dataloader.get_batch_size(),\n",
        "\tregul_rate = 1.0\n",
        ")\n",
        "# train the model\n",
        "trainer = Trainer(model = model, data_loader = train_dataloader, train_times = 500, alpha = 1.0, use_gpu = True, opt_method = \"adagrad\")\n",
        "trainer.run()\n",
        "distmult.save_checkpoint('./'+benchmark_name+'_distmult.ckpt')"
      ],
      "metadata": {
        "id": "4zId-0Xz3LPB"
      },
      "execution_count": null,
      "outputs": []
    },
    {
      "cell_type": "code",
      "source": [
        "# test the model\n",
        "distmult.load_checkpoint('./'+benchmark_name+'_distmult.ckpt')\n",
        "tester = Tester(model = distmult, data_loader = test_dataloader, use_gpu = True)\n",
        "tester.run_link_prediction(type_constrain = False, link_prediction_type=1)"
      ],
      "metadata": {
        "id": "ek0zMILm33H3"
      },
      "execution_count": null,
      "outputs": []
    },
    {
      "cell_type": "markdown",
      "source": [
        "# **CompleX**"
      ],
      "metadata": {
        "id": "uUjEHKFkLV3h"
      }
    },
    {
      "cell_type": "code",
      "source": [
        "import openke\n",
        "from openke.config import Trainer, Tester\n",
        "from openke.module.model import ComplEx\n",
        "from openke.module.loss import SoftplusLoss\n",
        "from openke.module.strategy import NegativeSampling\n",
        "from openke.data import TrainDataLoader, TestDataLoader\n",
        "\n",
        "# dataloader for training\n",
        "train_dataloader = TrainDataLoader(\n",
        "\tin_path = \"./benchmarks/\"+benchmark_name+\"/\",\n",
        "\tnbatches = 100,\n",
        "\tthreads = 8,\n",
        "\tsampling_mode = \"normal\",\n",
        "\tbern_flag = 1,\n",
        "\tfilter_flag = 1,\n",
        "\tneg_ent = 25,\n",
        "\tneg_rel = 0\n",
        ")\n",
        "\n",
        "# dataloader for test\n",
        "test_dataloader = TestDataLoader(\"./benchmarks/\"+benchmark_name+\"/\", \"link\")\n",
        "\n",
        "# define the model\n",
        "complEx = ComplEx(\n",
        "\tent_tot = train_dataloader.get_ent_tot(),\n",
        "\trel_tot = train_dataloader.get_rel_tot(),\n",
        "\tdim = 20\n",
        ")\n",
        "\n",
        "# define the loss function\n",
        "model = NegativeSampling(\n",
        "\tmodel = complEx,\n",
        "\tloss = SoftplusLoss(),\n",
        "\tbatch_size = train_dataloader.get_batch_size(),\n",
        "\tregul_rate = 1.0\n",
        ")\n",
        "# train the model\n",
        "trainer = Trainer(model = model, data_loader = train_dataloader, train_times = 500, alpha = 1.0, use_gpu = True, opt_method = \"adagrad\")\n",
        "trainer.run()\n",
        "complEx.save_checkpoint('./'+benchmark_name+'_complex.ckpt')"
      ],
      "metadata": {
        "id": "dCsW-4pGLbw6"
      },
      "execution_count": null,
      "outputs": []
    },
    {
      "cell_type": "code",
      "source": [
        "# test the model\n",
        "complEx.load_checkpoint('./'+benchmark_name+'_complex.ckpt')\n",
        "tester = Tester(model = complEx, data_loader = test_dataloader, use_gpu = True)\n",
        "tester.run_link_prediction(type_constrain = False, link_prediction_type=1)"
      ],
      "metadata": {
        "id": "0ClHvdP477JQ"
      },
      "execution_count": null,
      "outputs": []
    },
    {
      "cell_type": "markdown",
      "source": [
        "# **RotatE**"
      ],
      "metadata": {
        "id": "c3xl3z0g4Wye"
      }
    },
    {
      "cell_type": "code",
      "source": [
        "import openke\n",
        "from openke.config import Trainer, Tester\n",
        "from openke.module.model import RotatE\n",
        "from openke.module.loss import SigmoidLoss\n",
        "from openke.module.strategy import NegativeSampling\n",
        "from openke.data import TrainDataLoader, TestDataLoader\n",
        "\n",
        "# dataloader for training\n",
        "train_dataloader = TrainDataLoader(\n",
        "\tin_path = \"./benchmarks/\"+benchmark_name+\"/\",\n",
        "\tbatch_size = 2000,\n",
        "\tthreads = 8,\n",
        "\tsampling_mode = \"cross\",\n",
        "\tbern_flag = 0,\n",
        "\tfilter_flag = 1,\n",
        "\tneg_ent = 64,\n",
        "\tneg_rel = 0\n",
        ")\n",
        "\n",
        "# dataloader for test\n",
        "test_dataloader = TestDataLoader(\"./benchmarks/\"+benchmark_name+\"/\", \"link\")\n",
        "\n",
        "# define the model\n",
        "rotate = RotatE(\n",
        "\tent_tot = train_dataloader.get_ent_tot(),\n",
        "\trel_tot = train_dataloader.get_rel_tot(),\n",
        "\tdim = 20,\n",
        "\tmargin = 6.0,\n",
        "\tepsilon = 2.0,\n",
        ")\n",
        "\n",
        "# define the loss function\n",
        "model = NegativeSampling(\n",
        "\tmodel = rotate,\n",
        "\tloss = SigmoidLoss(adv_temperature = 2),\n",
        "\tbatch_size = train_dataloader.get_batch_size(),\n",
        "\tregul_rate = 0.0\n",
        ")\n",
        "# train the model\n",
        "trainer = Trainer(model = model, data_loader = train_dataloader, train_times = 500, alpha = 1.0, use_gpu = True, opt_method = \"adam\")\n",
        "trainer.run()\n",
        "rotate.save_checkpoint('./'+benchmark_name+'_rotate.ckpt')"
      ],
      "metadata": {
        "id": "d3rSF5Fx4ZvD"
      },
      "execution_count": null,
      "outputs": []
    },
    {
      "cell_type": "code",
      "source": [
        "# test the model\n",
        "rotate.load_checkpoint('./'+benchmark_name+'_rotate.ckpt')\n",
        "tester = Tester(model = rotate, data_loader = test_dataloader, use_gpu = True)\n",
        "tester.run_link_prediction(type_constrain = False, link_prediction_type=1)"
      ],
      "metadata": {
        "id": "WeWJPxBL9mKw"
      },
      "execution_count": null,
      "outputs": []
    }
  ]
}